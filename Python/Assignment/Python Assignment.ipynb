{
 "cells": [
  {
   "cell_type": "markdown",
   "metadata": {},
   "source": [
    "## Python Assignment"
   ]
  },
  {
   "cell_type": "markdown",
   "metadata": {},
   "source": [
    "1) What are the types of Applications?\n",
    "\n",
    "Ans. Python is a versatile programming language that can be used to create various types of applications, including:\n",
    "1.\tWeb Development\n",
    "2.\tMachine Learning\n",
    "3.\tDesktop GUI\n",
    "4.\tGame Development\n",
    "5.\tData Science\n",
    "6.\tSoftware Development\n",
    "7.\tBusiness applications\n",
    "8.\tEmbedded System\n",
    "9.\tBlockchain Applications"
   ]
  },
  {
   "cell_type": "markdown",
   "metadata": {},
   "source": [
    "2) What is programing? \n",
    "\n",
    "Ans. Programming is the process of writing instructions or code that tells a computer that how to perform a task."
   ]
  },
  {
   "cell_type": "markdown",
   "metadata": {},
   "source": [
    "3) What is Python? \n",
    "\n",
    "Ans. Python is an interpreted, object-oriented, high-level programming language with dynamic semantics developed by Guido Van Rossum. It was originally released in 1991."
   ]
  },
  {
   "cell_type": "markdown",
   "metadata": {},
   "source": [
    "4) Write a Python program to check if a number is positive, negative or \n",
    "zero."
   ]
  },
  {
   "cell_type": "code",
   "execution_count": 11,
   "metadata": {},
   "outputs": [
    {
     "name": "stdout",
     "output_type": "stream",
     "text": [
      "-45.0 is negative\n"
     ]
    }
   ],
   "source": [
    "num = float(input(\"Enter a number : \"))\n",
    "if num > 0 :\n",
    "    print(num,\"is positive\")\n",
    "elif num < 0 :\n",
    "    print(num,\"is negative\")\n",
    "else : \n",
    "    print(\"You entered zero\") "
   ]
  },
  {
   "cell_type": "markdown",
   "metadata": {},
   "source": [
    "5)Write a Python program to get the Factorial number of given numbers. "
   ]
  },
  {
   "cell_type": "code",
   "execution_count": 21,
   "metadata": {},
   "outputs": [
    {
     "name": "stdout",
     "output_type": "stream",
     "text": [
      "Factorial of 5 is 120\n"
     ]
    }
   ],
   "source": [
    "num = int(input(\"Enter a number to calculate factorial : \"))\n",
    "fact = 1\n",
    "for i in range(1,num+1):\n",
    "    fact = fact * i\n",
    "print(\"Factorial of\",num,\"is\",fact)"
   ]
  },
  {
   "cell_type": "markdown",
   "metadata": {},
   "source": [
    "6)Write a Python program to get the Fibonacci series of given range. "
   ]
  },
  {
   "cell_type": "code",
   "execution_count": 25,
   "metadata": {},
   "outputs": [
    {
     "name": "stdout",
     "output_type": "stream",
     "text": [
      "1 2 3 5 8 13 21 34 55 89 "
     ]
    }
   ],
   "source": [
    "num = int(input(\"Enter a number to calculate fibonacci series : \"))\n",
    "num1 = 0\n",
    "num2 = 1\n",
    "next_num = num2\n",
    "count = 1\n",
    "while count <= num :\n",
    "    print(next_num, end=\" \")\n",
    "    count += 1\n",
    "    num1 = num2\n",
    "    num2 = next_num\n",
    "    next_num = num1 + num2"
   ]
  },
  {
   "cell_type": "markdown",
   "metadata": {},
   "source": [
    "7) How memory is managed in Python? \n",
    "\n",
    "Ans. Python memory management is handled automatically, saving you from the complexities of manual memory allocation and deallocation. Here's a breakdown of the key mechanisms:\n",
    "\n",
    "1. Garbage Collection:\n",
    "Garbage Collection is a process in which interpreter frees up the memory when not in use to make it available for other objects.\n",
    "\n",
    "2. Reference Counting:\n",
    "Reference Counting works by counting the number of times object is referenced by the other objects in the system. When references to an object are removed, the refernce count for an object is decremented. When refernce count becomes zero, the object is deallocated.\n",
    "\n",
    "3. Stack Memory:\n",
    "The allocation happens on contiguous blocks of memory. We call it stack memory allocation because the allocation happens in the function call stack. The size of memory to be allocated is known to the compiler and whenever a functiona is called, its variables gets memory allocated on the stack.\n",
    "\n",
    "4. Heap Memory:\n",
    "The memory is allocated during the execution of instructions written by the programmers. It is called heap because it is a pile of memory space available to programmers to allocated and de-allocate. The variable are needed ouside of the method or function calls are shared within multiple functions globally are stored in heap memory."
   ]
  },
  {
   "cell_type": "markdown",
   "metadata": {},
   "source": [
    "8) What is the purpose continuing statement in python? \n",
    "\n",
    "Ans. Python Continue Statement skips the execution of the program block after the continue statement and forces the control to start the next iteration."
   ]
  },
  {
   "cell_type": "code",
   "execution_count": 26,
   "metadata": {},
   "outputs": [
    {
     "name": "stdout",
     "output_type": "stream",
     "text": [
      "1\n",
      "2\n",
      "3\n",
      "4\n",
      "5\n",
      "7\n",
      "8\n",
      "9\n",
      "10\n"
     ]
    }
   ],
   "source": [
    "# Example\n",
    "for i in range(1,11):\n",
    "    if i==6:\n",
    "        continue\n",
    "    else:\n",
    "        print(i)"
   ]
  },
  {
   "cell_type": "markdown",
   "metadata": {},
   "source": [
    "9) Write python program that swap two number with temp variable and without temp variable. "
   ]
  },
  {
   "cell_type": "code",
   "execution_count": 28,
   "metadata": {},
   "outputs": [
    {
     "name": "stdout",
     "output_type": "stream",
     "text": [
      "Before Swapping :\n",
      "Value of num1 = 23 and num2 =  45\n",
      "After Swapping :\n",
      "Value of num1 =  45 and num2 = 23\n"
     ]
    }
   ],
   "source": [
    "# Swap 2 numbers with temp variable\n",
    "num1 = int(input(\"Enter 1st number : \"))\n",
    "num2 = int(input(\"Enter 2nd number : \"))\n",
    "print(\"Before Swapping :\")\n",
    "print(\"Value of num1 =\",num1,\"and num2 = \",num2)\n",
    "temp = num1\n",
    "num1 = num2\n",
    "num2 = temp\n",
    "print(\"After Swapping :\")\n",
    "print(\"Value of num1 = \",num1,\"and num2 =\",num2)\n"
   ]
  },
  {
   "cell_type": "code",
   "execution_count": 32,
   "metadata": {},
   "outputs": [
    {
     "name": "stdout",
     "output_type": "stream",
     "text": [
      "Before Swapping :\n",
      "Value of num1 = 23 and num2 =  45\n",
      "After Swapping :\n",
      "Value of num1 =  45 and num2 = 23\n"
     ]
    }
   ],
   "source": [
    "# Swap 2 numbers without temp variable\n",
    "num1 = int(input(\"Enter 1st number : \"))\n",
    "num2 = int(input(\"Enter 2nd number : \"))\n",
    "print(\"Before Swapping :\")\n",
    "print(\"Value of num1 =\",num1,\"and num2 = \",num2)\n",
    "num1 = num1 + num2\n",
    "num2 = num1 - num2\n",
    "num1 = num1 - num2\n",
    "print(\"After Swapping :\")\n",
    "print(\"Value of num1 = \",num1,\"and num2 =\",num2)"
   ]
  },
  {
   "cell_type": "markdown",
   "metadata": {},
   "source": [
    "10) Write a Python program to find whether a given number is even \n",
    "or odd, print out an appropriate message to the user. "
   ]
  },
  {
   "cell_type": "code",
   "execution_count": 56,
   "metadata": {},
   "outputs": [
    {
     "name": "stdout",
     "output_type": "stream",
     "text": [
      "45 is odd number\n"
     ]
    }
   ],
   "source": [
    "num = input(\"Enter a number : \")\n",
    "if num.isdigit():\n",
    "    num = int(num)\n",
    "    if num%2 == 0:\n",
    "        print(num,\"is even number\")\n",
    "    else:\n",
    "        print(num,\"is odd number\")\n",
    "else:\n",
    "    print(\"Invalid Input\")"
   ]
  },
  {
   "cell_type": "markdown",
   "metadata": {},
   "source": [
    "11) Write a Python program to test whether a passed letter is a vowel \n",
    "or not. \n"
   ]
  },
  {
   "cell_type": "code",
   "execution_count": 74,
   "metadata": {},
   "outputs": [
    {
     "name": "stdout",
     "output_type": "stream",
     "text": [
      "I is vowel\n"
     ]
    }
   ],
   "source": [
    "char = input(\"Enter a character to check vowel or not : \")\n",
    "\n",
    "if char in ('A','E','I','O','U','a','e','i','o','u'):\n",
    "    print(char,\"is vowel\")\n",
    "else:\n",
    "    print(char,\"is consonant\")"
   ]
  },
  {
   "cell_type": "markdown",
   "metadata": {},
   "source": [
    "12) Write a Python program to sum of three given integers. However, if \n",
    "two values are equal sum will be zero. "
   ]
  },
  {
   "cell_type": "code",
   "execution_count": null,
   "metadata": {},
   "outputs": [
    {
     "name": "stdout",
     "output_type": "stream",
     "text": [
      "0\n"
     ]
    }
   ],
   "source": [
    "num1 = int(input(\"Enter 1st number : \"))\n",
    "num2 = int(input(\"Enter 2nd number : \"))\n",
    "num3 = int(input(\"Enter 3rd number : \"))\n",
    "if num1 == num2:\n",
    "    print(0)\n",
    "elif num1 == num3:\n",
    "    print(0)\n",
    "elif num2 == num3:\n",
    "    print(0)\n",
    "else:\n",
    "    sum = num1 + num2 + num3\n",
    "    print(sum)"
   ]
  },
  {
   "cell_type": "markdown",
   "metadata": {},
   "source": [
    "13) Write a Python program that will return true if the two given \n",
    "integer values are equal or their sum or difference is 5. "
   ]
  },
  {
   "cell_type": "code",
   "execution_count": 97,
   "metadata": {},
   "outputs": [
    {
     "name": "stdout",
     "output_type": "stream",
     "text": [
      "True\n"
     ]
    }
   ],
   "source": [
    "num1 = int(input(\"Enter 1st number : \"))\n",
    "num2 = int(input(\"Enter 2nd number : \"))\n",
    "if num1 == num2 == 5:\n",
    "    print(True)\n",
    "elif (num1 + num2) == 5:\n",
    "    print(True)\n",
    "elif (num1 - num2) == 5:\n",
    "    print(True)\n",
    "else:\n",
    "    print(False)"
   ]
  },
  {
   "cell_type": "markdown",
   "metadata": {},
   "source": [
    "14)Write a python program to sum of the first n positive integers. "
   ]
  },
  {
   "cell_type": "code",
   "execution_count": 125,
   "metadata": {},
   "outputs": [
    {
     "name": "stdout",
     "output_type": "stream",
     "text": [
      "Sum of first 10 numbers is 55\n"
     ]
    }
   ],
   "source": [
    "num = int(input(\"Enter a number : \"))\n",
    "sum = 0\n",
    "if num > 0:\n",
    "    for i in range(0, num+1):\n",
    "        sum += i\n",
    "    print(\"Sum of first\",num,\"numbers is\",sum)\n",
    "elif num < 0:\n",
    "    print(num,\"is negative number\")\n",
    "else:\n",
    "    print(0)"
   ]
  },
  {
   "cell_type": "markdown",
   "metadata": {},
   "source": [
    "15)Write a Python program to calculate the length of a string. "
   ]
  },
  {
   "cell_type": "code",
   "execution_count": 129,
   "metadata": {},
   "outputs": [
    {
     "name": "stdout",
     "output_type": "stream",
     "text": [
      "Entered string : Shraddha \n",
      "Length of a given string : 8\n"
     ]
    }
   ],
   "source": [
    "s1 = input(\"Enter a string to calculate the length : \")\n",
    "print(\"Entered string :\",s1,\"\\nLength of a given string :\",len(s1))"
   ]
  },
  {
   "cell_type": "markdown",
   "metadata": {},
   "source": [
    "16) Write a Python program to count the number of characters \n",
    "(character frequency) in a string \n"
   ]
  },
  {
   "cell_type": "code",
   "execution_count": 132,
   "metadata": {},
   "outputs": [
    {
     "name": "stdout",
     "output_type": "stream",
     "text": [
      "Entered string : Shraddha \n",
      "Frequency of a given character 'a' : 2\n"
     ]
    }
   ],
   "source": [
    "s1 = input(\"Enter a string to calculate the frequency of character : \")\n",
    "print(\"Entered string :\",s1,\"\\nFrequency of a given character 'a' :\",s1.count('a'))"
   ]
  },
  {
   "cell_type": "markdown",
   "metadata": {},
   "source": [
    "17)What are negative indexes and why are they used? \n",
    "\n",
    "Ans. Negative indexing allows you to accessing the elements of a sequence from the end using negative numbers as indexes. This can be useful for getting last few elements of a sequence or a list in which we don't know the exact position of that elements, reversing a sequence, or performing other operations that require accessing elements from the end."
   ]
  },
  {
   "cell_type": "markdown",
   "metadata": {},
   "source": [
    "18)Write a Python program to count occurrences of a substring in a string"
   ]
  },
  {
   "cell_type": "code",
   "execution_count": null,
   "metadata": {},
   "outputs": [
    {
     "name": "stdout",
     "output_type": "stream",
     "text": [
      "2\n"
     ]
    }
   ],
   "source": [
    "s1 = input(\"Enter a string : \")\n",
    "substr = s1.split()\n",
    "for i in substr:\n",
    "    print(i.count('r')) #doubt"
   ]
  },
  {
   "cell_type": "markdown",
   "metadata": {},
   "source": [
    "19) Write a Python program to count the occurrences of each word in a \n",
    "given sentence "
   ]
  },
  {
   "cell_type": "code",
   "execution_count": null,
   "metadata": {},
   "outputs": [
    {
     "ename": "TypeError",
     "evalue": "descriptor 'count' for 'str' objects doesn't apply to a 'list' object",
     "output_type": "error",
     "traceback": [
      "\u001b[1;31m---------------------------------------------------------------------------\u001b[0m",
      "\u001b[1;31mTypeError\u001b[0m                                 Traceback (most recent call last)",
      "Cell \u001b[1;32mIn[143], line 4\u001b[0m\n\u001b[0;32m      2\u001b[0m substr \u001b[38;5;241m=\u001b[39m s1\u001b[38;5;241m.\u001b[39msplit()\n\u001b[0;32m      3\u001b[0m l\u001b[38;5;241m=\u001b[39m[\u001b[38;5;241m1\u001b[39m,\u001b[38;5;241m2\u001b[39m,\u001b[38;5;241m3\u001b[39m,\u001b[38;5;241m4\u001b[39m,\u001b[38;5;241m5\u001b[39m]\n\u001b[1;32m----> 4\u001b[0m \u001b[38;5;28;43mstr\u001b[39;49m\u001b[38;5;241;43m.\u001b[39;49m\u001b[43mcount\u001b[49m\u001b[43m(\u001b[49m\u001b[43ml\u001b[49m\u001b[43m)\u001b[49m\n",
      "\u001b[1;31mTypeError\u001b[0m: descriptor 'count' for 'str' objects doesn't apply to a 'list' object"
     ]
    }
   ],
   "source": [
    "s1 = input(\"Enter a string : \")\n",
    "substr = s1.split()\n",
    "str.count(substr)  #doubt"
   ]
  },
  {
   "cell_type": "markdown",
   "metadata": {},
   "source": [
    "20) Write a Python program to get a single string from two given strings, \n",
    "separated by a space and swap the first two characters of each string. "
   ]
  },
  {
   "cell_type": "code",
   "execution_count": 1,
   "metadata": {},
   "outputs": [
    {
     "name": "stdout",
     "output_type": "stream",
     "text": [
      "eHllo oWrld\n"
     ]
    }
   ],
   "source": [
    "s1 = input(\"Enter 1st string : \")\n",
    "s2 = input(\"Enter 2nd string : \")\n",
    "if len(s1) >= 2 and len(s2) >= 2:\n",
    "    s3 = (s1[1] + s1[0] + s1[2:]) + \" \" + (s2[1] + s2[0] + s2[2:])\n",
    "    print(s3)\n",
    "else:\n",
    "    print(\"Length of 1st string\",s1,\"=\",len(s1),\"and Length of 2snd string\",s2,\"=\",len(s2))"
   ]
  },
  {
   "cell_type": "code",
   "execution_count": null,
   "metadata": {},
   "outputs": [],
   "source": []
  },
  {
   "cell_type": "code",
   "execution_count": null,
   "metadata": {},
   "outputs": [],
   "source": []
  }
 ],
 "metadata": {
  "kernelspec": {
   "display_name": "Python 3",
   "language": "python",
   "name": "python3"
  },
  "language_info": {
   "codemirror_mode": {
    "name": "ipython",
    "version": 3
   },
   "file_extension": ".py",
   "mimetype": "text/x-python",
   "name": "python",
   "nbconvert_exporter": "python",
   "pygments_lexer": "ipython3",
   "version": "3.13.0"
  }
 },
 "nbformat": 4,
 "nbformat_minor": 2
}
